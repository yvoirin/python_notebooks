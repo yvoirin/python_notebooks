{
  "nbformat": 4,
  "nbformat_minor": 0,
  "metadata": {
    "colab": {
      "provenance": [],
      "authorship_tag": "ABX9TyNyXv6yj27Dsf7K44GJjB4Q",
      "include_colab_link": true
    },
    "kernelspec": {
      "name": "python3",
      "display_name": "Python 3"
    },
    "language_info": {
      "name": "python"
    }
  },
  "cells": [
    {
      "cell_type": "markdown",
      "metadata": {
        "id": "view-in-github",
        "colab_type": "text"
      },
      "source": [
        "<a href=\"https://colab.research.google.com/github/yvoirin/python_notebooks/blob/main/basics.ipynb\" target=\"_parent\"><img src=\"https://colab.research.google.com/assets/colab-badge.svg\" alt=\"Open In Colab\"/></a>"
      ]
    },
    {
      "cell_type": "markdown",
      "source": [
        "# Détecter quand la boucle FOR a terminé proprement"
      ],
      "metadata": {
        "id": "fjL7SSonfBIh"
      }
    },
    {
      "cell_type": "code",
      "execution_count": 5,
      "metadata": {
        "colab": {
          "base_uri": "https://localhost:8080/"
        },
        "id": "KbMLUsBbelNa",
        "outputId": "a8a8c4b7-9448-4aaf-de8f-bfe3b99c552c"
      },
      "outputs": [
        {
          "output_type": "stream",
          "name": "stdout",
          "text": [
            "0\n",
            "1\n",
            "2\n",
            "3\n",
            "4\n",
            "5\n",
            "6\n",
            "7\n",
            "8\n",
            "9\n",
            "10\n",
            "11\n",
            "12\n",
            "13\n",
            "14\n",
            "15\n",
            "16\n",
            "17\n",
            "18\n",
            "19\n",
            "ok, on a fait toutes les itérations\n"
          ]
        }
      ],
      "source": [
        "for i in range(20):\n",
        "    print(i)\n",
        "    if i == 30:\n",
        "        break\n",
        "# le ELSE avec le FOR permet de savoir si la boucle a été faite complètement\n",
        "else:\n",
        "    print('ok, on a fait toutes les itérations')"
      ]
    },
    {
      "cell_type": "markdown",
      "source": [
        "# Récupérer des variables grâce à un tableau"
      ],
      "metadata": {
        "id": "9IlMx3jnf2dH"
      }
    },
    {
      "cell_type": "code",
      "source": [
        "ma_liste = [1,2,3,4]\n",
        "# j'ai 4 éléments dans ma liste donc je peux affecter 4 variables\n",
        "a, b, c, d = ma_liste"
      ],
      "metadata": {
        "id": "0J9cF9m9fkcd"
      },
      "execution_count": 6,
      "outputs": []
    },
    {
      "cell_type": "markdown",
      "source": [
        "# Trouver les n plus petit ou plus grands éléments d'une liste"
      ],
      "metadata": {
        "id": "q_iFpLBmfsam"
      }
    },
    {
      "cell_type": "code",
      "source": [
        "import heapq\n",
        "ma_liste = [1,2,3,4]\n",
        "\n",
        "# la lib heapq permet de récupérer les n plus petits ou n plus grands\n",
        "print(heapq.nsmallest(2, ma_liste))\n",
        "print(heapq.nlargest(2, ma_liste))"
      ],
      "metadata": {
        "colab": {
          "base_uri": "https://localhost:8080/"
        },
        "id": "gtMgwzJDf8Hi",
        "outputId": "548101e5-26a7-4084-baa6-3d6df73d2a8d"
      },
      "execution_count": 7,
      "outputs": [
        {
          "output_type": "stream",
          "name": "stdout",
          "text": [
            "[1, 2]\n",
            "[4, 3]\n"
          ]
        }
      ]
    },
    {
      "cell_type": "markdown",
      "source": [
        "# Transformer un texte déclarant une liste en une vraie liste"
      ],
      "metadata": {
        "id": "krMAuuZZgFga"
      }
    },
    {
      "cell_type": "code",
      "source": [
        "import ast\n",
        "mon_texte = \"[1,2,3,4]\"\n",
        "# la lib AST permet d'évaluer du texte et convertir en objet Python\n",
        "ma_liste = ast.literal_eval(mon_texte)\n",
        "print(ma_liste[2])"
      ],
      "metadata": {
        "colab": {
          "base_uri": "https://localhost:8080/"
        },
        "id": "oJ8nzQH3gJph",
        "outputId": "282b43af-d804-49d4-ebdc-ea45faf38bbf"
      },
      "execution_count": 15,
      "outputs": [
        {
          "output_type": "stream",
          "name": "stdout",
          "text": [
            "3\n"
          ]
        }
      ]
    },
    {
      "cell_type": "markdown",
      "source": [
        "# Compter le nombre d'éléments d'une liste"
      ],
      "metadata": {
        "id": "Kiqs_nSdgTtV"
      }
    },
    {
      "cell_type": "code",
      "source": [
        "from collections import Counter\n",
        "ma_liste = [[1],[2,3],[4],[1,2]]\n",
        "flatten = [x for sub in ma_liste for x in sub]\n",
        "# si on a une liste, on peut compter les éléments avec Counter\n",
        "resu = Counter(flatten)\n",
        "# on va obtenir un objet qui donne chaque élément est son occurence\n",
        "print(resu)"
      ],
      "metadata": {
        "colab": {
          "base_uri": "https://localhost:8080/"
        },
        "id": "N65womvYgWSY",
        "outputId": "52fe20e5-b2ba-4270-974b-a930daa13fe1"
      },
      "execution_count": 14,
      "outputs": [
        {
          "output_type": "stream",
          "name": "stdout",
          "text": [
            "Counter({1: 2, 2: 2, 3: 1, 4: 1})\n"
          ]
        }
      ]
    },
    {
      "cell_type": "markdown",
      "source": [
        "# Faire des permutations, des combinaisons et des produits de listes"
      ],
      "metadata": {
        "id": "moUWOacXgkpC"
      }
    },
    {
      "cell_type": "code",
      "source": [
        "from itertools import permutations, combinations, product\n",
        "ma_liste = [1,2,3]\n",
        "# on peut obtenir les permutations possibles entre tous les éléments\n",
        "resu = permutations(ma_liste)\n",
        "print(list(resu))\n",
        "\n",
        "# on peut aussi trouver toutes les combinaisons de 2 éléments \n",
        "resu = combinations(ma_liste, 2)\n",
        "print(list(resu))\n",
        "\n",
        "colors = ['P', 'C', 'CO', 'T']\n",
        "values = [str(i) for i in range(1,11)] + ['V', 'D', 'R']\n",
        "# on peut aussi trouver la production d'une nouvelle liste à partir de 2 listes\n",
        "resu = product(colors, values)\n",
        "print(len(list(resu)))"
      ],
      "metadata": {
        "colab": {
          "base_uri": "https://localhost:8080/"
        },
        "id": "aEft6V7lgq7O",
        "outputId": "32524d50-fb68-4ea3-b141-d4f7a94d5b83"
      },
      "execution_count": 13,
      "outputs": [
        {
          "output_type": "stream",
          "name": "stdout",
          "text": [
            "[(1, 2, 3), (1, 3, 2), (2, 1, 3), (2, 3, 1), (3, 1, 2), (3, 2, 1)]\n",
            "[(1, 2), (1, 3), (2, 3)]\n",
            "52\n"
          ]
        }
      ]
    },
    {
      "cell_type": "markdown",
      "source": [
        "# Filtrer une liste"
      ],
      "metadata": {
        "id": "fWFCMSoNhH7v"
      }
    },
    {
      "cell_type": "code",
      "source": [
        "ma_liste = [1,2,3]\n",
        "# la méthode filter permet de réduire une liste en fonction d'une condition\n",
        "resu = filter(lambda x:x%2 == 0, ma_liste)\n",
        "print(list(resu))"
      ],
      "metadata": {
        "colab": {
          "base_uri": "https://localhost:8080/"
        },
        "id": "a3TCRAt4hHU5",
        "outputId": "495fc358-515d-440c-b137-a343f68238c0"
      },
      "execution_count": 12,
      "outputs": [
        {
          "output_type": "stream",
          "name": "stdout",
          "text": [
            "[2]\n"
          ]
        }
      ]
    },
    {
      "cell_type": "markdown",
      "source": [
        "# Créer une nouvelle liste en appliquant une fonction aux éléments"
      ],
      "metadata": {
        "id": "aS_xc3ethVeM"
      }
    },
    {
      "cell_type": "code",
      "source": [
        "ma_liste = [1,2,3]\n",
        "# la méthode map permet de créer une nouvelle liste en appliquant une fonction à chaque élément\n",
        "resu = map(lambda x:x*2, ma_liste)\n",
        "print(list(resu))"
      ],
      "metadata": {
        "colab": {
          "base_uri": "https://localhost:8080/"
        },
        "id": "ItYW-H_yhY_I",
        "outputId": "176af953-5cf7-470a-9c84-cfb5feb78ce7"
      },
      "execution_count": 11,
      "outputs": [
        {
          "output_type": "stream",
          "name": "stdout",
          "text": [
            "[2, 4, 6]\n"
          ]
        }
      ]
    },
    {
      "cell_type": "markdown",
      "source": [
        "# Utiliser une abréviation pour les conditions"
      ],
      "metadata": {
        "id": "Q25_Ilsihh-F"
      }
    },
    {
      "cell_type": "code",
      "source": [
        "a = 10\n",
        "# on peut affecter une variable de manière conditionnelle\n",
        "b = \"1\" if a == 1 else \"0\"\n",
        "print(b)"
      ],
      "metadata": {
        "colab": {
          "base_uri": "https://localhost:8080/"
        },
        "id": "hINlzFrhhjmM",
        "outputId": "bca51ae1-1770-4245-a840-fe06f132c713"
      },
      "execution_count": 10,
      "outputs": [
        {
          "output_type": "stream",
          "name": "stdout",
          "text": [
            "0\n"
          ]
        }
      ]
    },
    {
      "cell_type": "markdown",
      "source": [
        "# Détecter si un élément respecte plusieurs conditions ou au moins une condition"
      ],
      "metadata": {
        "id": "diFuo0zUh_sV"
      }
    },
    {
      "cell_type": "code",
      "source": [
        "value = 13\n",
        "# on déclare un tableau de conditions\n",
        "conditions = [ value < 10, value % 2 == 0]\n",
        "# on vérifie si une condition est vraie (utiliser all si vous voulez que toutes les conditions soient vraies)\n",
        "if any(conditions):\n",
        "    print('ok')"
      ],
      "metadata": {
        "id": "U3tXfYi0iCfI"
      },
      "execution_count": 9,
      "outputs": []
    }
  ]
}