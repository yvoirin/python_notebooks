{
  "nbformat": 4,
  "nbformat_minor": 0,
  "metadata": {
    "colab": {
      "provenance": [],
      "authorship_tag": "ABX9TyNnS/9cWmeOMz5Jwv69/xnY",
      "include_colab_link": true
    },
    "kernelspec": {
      "name": "python3",
      "display_name": "Python 3"
    },
    "language_info": {
      "name": "python"
    },
    "accelerator": "GPU",
    "gpuClass": "standard"
  },
  "cells": [
    {
      "cell_type": "markdown",
      "metadata": {
        "id": "view-in-github",
        "colab_type": "text"
      },
      "source": [
        "<a href=\"https://colab.research.google.com/github/yvoirin/python_notebooks/blob/main/Reconnaissance_des_nombres.ipynb\" target=\"_parent\"><img src=\"https://colab.research.google.com/assets/colab-badge.svg\" alt=\"Open In Colab\"/></a>"
      ]
    },
    {
      "cell_type": "markdown",
      "source": [
        "# Utiliser Jupyter Notebook et TensorFlow/Keras\n",
        "\n",
        "## Objectifs\n",
        "\n",
        "Le but est de pouvoir exécuter du code Python faisant appel à Keras/TensorFlow. On va entrainer un réseau sur les données MNIST (http://yann.lecun.com/exdb/mnist/) et \n",
        "ensuite présenter nos propres images.\n",
        "\n",
        "(réf. : http://robhardwick.me/ml/hello-world/)\n",
        "\n",
        "Dans Jupyter sur Azure TensorFlow et Keras libs sont déjà présentes."
      ],
      "metadata": {
        "id": "h9IEd5BS1A3h"
      }
    },
    {
      "cell_type": "markdown",
      "source": [
        "## Vérifier l'installation\n",
        "\n",
        "Avec quelques instuctions, on peut vérifier l'installation."
      ],
      "metadata": {
        "id": "u8K63y-Q1LY7"
      }
    },
    {
      "cell_type": "code",
      "execution_count": 1,
      "metadata": {
        "colab": {
          "base_uri": "https://localhost:8080/"
        },
        "id": "e5VNuYq00gUt",
        "outputId": "41a8b19b-5243-4a32-feb6-3ae9f726f194"
      },
      "outputs": [
        {
          "output_type": "stream",
          "name": "stdout",
          "text": [
            "2.11.0\n"
          ]
        }
      ],
      "source": [
        "import keras\n",
        "print(keras.__version__)"
      ]
    },
    {
      "cell_type": "markdown",
      "source": [
        "## Préparation du jeu d'entrainement\n",
        "\n",
        "On prépare les jeux d'entrainement et de test\n",
        "\n",
        "En utilisant Keras, on importe les données d'entrainement"
      ],
      "metadata": {
        "id": "IGFHfXcd1PtI"
      }
    },
    {
      "cell_type": "code",
      "source": [
        "from keras.datasets import mnist\n",
        "#keras will automatically downlhoad the dataset\n",
        "(x_train, y_train), (x_test, y_test) = mnist.load_data()"
      ],
      "metadata": {
        "colab": {
          "base_uri": "https://localhost:8080/"
        },
        "id": "ONqCt3Va1S3t",
        "outputId": "8bbee180-4102-46ca-baf9-a938d118d4d7"
      },
      "execution_count": 2,
      "outputs": [
        {
          "output_type": "stream",
          "name": "stdout",
          "text": [
            "Downloading data from https://storage.googleapis.com/tensorflow/tf-keras-datasets/mnist.npz\n",
            "11490434/11490434 [==============================] - 1s 0us/step\n"
          ]
        }
      ]
    },
    {
      "cell_type": "markdown",
      "source": [
        "## Vérification du jeu\n",
        "\n",
        "On vérifie la lecture des jeux de données *(il est possible qu'il faudra exécuter 2 fois la cellule pour voir les figures)*"
      ],
      "metadata": {
        "id": "JymcqwvL1XzM"
      }
    },
    {
      "cell_type": "code",
      "source": [
        "# on utilise matplotlib pour afficher les données\n",
        "%matplotlib inline\n",
        "# on importe les fonctions\n",
        "import matplotlib.pyplot as plt\n",
        "import random\n",
        "#taille du jeu de données\n",
        "train_size = len(x_train)\n",
        "#génère un nombre aléatoire\n",
        "random.seed(49)\n",
        "# on va créer le graphique (4 graphes)\n",
        "# on va simplement afficher 4 images utilisées pour l'entrainement\n",
        "\n",
        "plt.subplot(221)\n",
        "plt.imshow(x_train[random.randint(0, train_size-1)], cmap=plt.get_cmap('gray'))\n",
        "plt.subplot(222)\n",
        "plt.imshow(x_train[random.randint(0, train_size-1)], cmap=plt.get_cmap('gray'))\n",
        "plt.subplot(223)\n",
        "plt.imshow(x_train[random.randint(0, train_size-1)], cmap=plt.get_cmap('gray'))\n",
        "plt.subplot(224)\n",
        "plt.imshow(x_train[random.randint(0, train_size-1)], cmap=plt.get_cmap('gray'))\n",
        "# show the plot\n",
        "plt.show()"
      ],
      "metadata": {
        "colab": {
          "base_uri": "https://localhost:8080/",
          "height": 268
        },
        "id": "Cp-lHAv81dq1",
        "outputId": "15be3f8e-2ea6-4380-d5fb-87d875f19928"
      },
      "execution_count": 3,
      "outputs": [
        {
          "output_type": "display_data",
          "data": {
            "text/plain": [
              "<Figure size 432x288 with 4 Axes>"
            ],
            "image/png": "[encoded data removed]"
          },
          "metadata": {
            "needs_background": "light"
          }
        }
      ]
    },
    {
      "cell_type": "markdown",
      "source": [
        "## Préparation des données\n",
        "\n",
        "On envoie pas des images au réseau de neurone. On va simplement envoyer une ligne de pixels (1d) composée de tous les pixels de l'image.\n",
        "\n",
        "On va modifier les données en entrée pour avoir une seule ligne"
      ],
      "metadata": {
        "id": "1SCTg4uJ1h_b"
      }
    },
    {
      "cell_type": "code",
      "source": [
        "# nombre des pixels\n",
        "num_pixels = x_train.shape[1] * x_train.shape[2]\n",
        "#on refait nos données d'entrainement en 1 lignes de 784 pixels\n",
        "x_train = x_train.reshape(x_train.shape[0], num_pixels) / 255\n",
        "x_test = x_test.reshape(x_test.shape[0], num_pixels) / 255"
      ],
      "metadata": {
        "id": "6XoFvapp1lKs"
      },
      "execution_count": 4,
      "outputs": []
    },
    {
      "cell_type": "markdown",
      "source": [
        "On va convertir les données (entrainement et test) pour obtenir en sortie du réseau des résultats de type catégories"
      ],
      "metadata": {
        "id": "F-1x3TTu1pYU"
      }
    },
    {
      "cell_type": "code",
      "source": [
        "from keras.utils import np_utils\n",
        "# on souhaite avoir en sortie une activation selon le chiffre (0 à 9)\n",
        "y_train = np_utils.to_categorical(y_train)\n",
        "y_test = np_utils.to_categorical(y_test)"
      ],
      "metadata": {
        "id": "Emx7fu5s1qz6"
      },
      "execution_count": 5,
      "outputs": []
    },
    {
      "cell_type": "markdown",
      "source": [
        "## Construction du réseau\n",
        "\n",
        "On va construire le réseau (c'est inspiré du code de http://robhardwick.me/ml/hello-world/).\n",
        "\n",
        "On peut inventer le réseau que l'on souhaite. En fonction de notre connaissance dans l'IA, on peut faire varier les couches et le type de couches."
      ],
      "metadata": {
        "id": "6aRt9Rxv19jI"
      }
    },
    {
      "cell_type": "code",
      "source": [
        "# on importe les libs\n",
        "import tensorflow as tf\n",
        "from keras import backend as K\n",
        "from keras.models import Sequential\n",
        "from keras.layers import Dense\n",
        "from keras.layers import Dropout\n",
        "from keras.layers import Flatten\n",
        "from keras.layers import Lambda, Activation\n",
        "from keras.layers.convolutional import Conv2D\n",
        "from keras.layers.convolutional import MaxPooling2D\n",
        "x_train = x_train.reshape(x_train.shape[0], 28, 28, 1)\n",
        "x_test = x_test.reshape(x_test.shape[0], 28, 28, 1)\n",
        "num_classes = len(y_train[0])\n",
        "# on définit la succession des couches\n",
        "model = Sequential()\n",
        "model.add(Conv2D(filters=32, kernel_size=(5, 5), input_shape=(28, 28, 1)))\n",
        "model.add(Activation('relu'))\n",
        "model.add(MaxPooling2D(pool_size=(2, 2), strides=2))\n",
        "model.add(Conv2D(64, (5, 5)))\n",
        "model.add(Activation('relu'))\n",
        "model.add(MaxPooling2D(pool_size=(2, 2), strides=2))\n",
        "model.add(Flatten())\n",
        "model.add(Dense(1024))\n",
        "model.add(Dropout(0.4))\n",
        "model.add(Dense(num_classes))\n",
        "model.add(Activation('softmax'))"
      ],
      "metadata": {
        "id": "O6_qDY6Z2AOe"
      },
      "execution_count": 6,
      "outputs": []
    },
    {
      "cell_type": "markdown",
      "source": [
        "On affiche le réseau"
      ],
      "metadata": {
        "id": "pSqKtaLb2E9J"
      }
    },
    {
      "cell_type": "code",
      "source": [
        "for i, layer in enumerate(model.layers):\n",
        "    print(i,layer.name)"
      ],
      "metadata": {
        "colab": {
          "base_uri": "https://localhost:8080/"
        },
        "id": "Pfh5jgLr2IAu",
        "outputId": "1f636a0c-972f-497c-8287-123f04aae579"
      },
      "execution_count": 7,
      "outputs": [
        {
          "output_type": "stream",
          "name": "stdout",
          "text": [
            "0 conv2d\n",
            "1 activation\n",
            "2 max_pooling2d\n",
            "3 conv2d_1\n",
            "4 activation_1\n",
            "5 max_pooling2d_1\n",
            "6 flatten\n",
            "7 dense\n",
            "8 dropout\n",
            "9 dense_1\n",
            "10 activation_2\n"
          ]
        }
      ]
    },
    {
      "cell_type": "markdown",
      "source": [
        "On construit le réseau"
      ],
      "metadata": {
        "id": "uSY-TYMg2MzK"
      }
    },
    {
      "cell_type": "code",
      "source": [
        "model.compile(loss='categorical_crossentropy', optimizer='adam', metrics=['accuracy'])"
      ],
      "metadata": {
        "id": "mz2K9s1w2OTY"
      },
      "execution_count": 8,
      "outputs": []
    },
    {
      "cell_type": "markdown",
      "source": [
        "On l'entraine (cette dernière opération peut prendre 20 min). Activer le GPU pour accélérer les choses."
      ],
      "metadata": {
        "id": "Xw4lUD5D2Ub0"
      }
    },
    {
      "cell_type": "code",
      "source": [
        "round = 10#nombre de tour pour l'apprentissage (3 signifie que l'on présente 3 fois le j\n",
        "#eu d'entrainement, on peut facilement augmenter ce nombre)\n",
        "# on présente 3 fois 200 exemples\n",
        "model.fit(x_train, y_train, validation_split=0.1, epochs=round, batch_size=200, verbose=\n",
        "2)"
      ],
      "metadata": {
        "colab": {
          "base_uri": "https://localhost:8080/"
        },
        "id": "8OU8bD7E2Xyq",
        "outputId": "16737379-0f00-425f-83a6-37dfe19eeaa7"
      },
      "execution_count": 9,
      "outputs": [
        {
          "output_type": "stream",
          "name": "stdout",
          "text": [
            "Epoch 1/10\n",
            "270/270 - 11s - loss: 0.1875 - accuracy: 0.9426 - val_loss: 0.0453 - val_accuracy: 0.9870 - 11s/epoch - 42ms/step\n",
            "Epoch 2/10\n",
            "270/270 - 2s - loss: 0.0501 - accuracy: 0.9845 - val_loss: 0.0359 - val_accuracy: 0.9900 - 2s/epoch - 6ms/step\n",
            "Epoch 3/10\n",
            "270/270 - 2s - loss: 0.0347 - accuracy: 0.9894 - val_loss: 0.0342 - val_accuracy: 0.9892 - 2s/epoch - 6ms/step\n",
            "Epoch 4/10\n",
            "270/270 - 1s - loss: 0.0273 - accuracy: 0.9912 - val_loss: 0.0286 - val_accuracy: 0.9923 - 1s/epoch - 4ms/step\n",
            "Epoch 5/10\n",
            "270/270 - 1s - loss: 0.0222 - accuracy: 0.9926 - val_loss: 0.0302 - val_accuracy: 0.9927 - 1s/epoch - 5ms/step\n",
            "Epoch 6/10\n",
            "270/270 - 1s - loss: 0.0152 - accuracy: 0.9948 - val_loss: 0.0384 - val_accuracy: 0.9910 - 1s/epoch - 4ms/step\n",
            "Epoch 7/10\n",
            "270/270 - 1s - loss: 0.0140 - accuracy: 0.9955 - val_loss: 0.0384 - val_accuracy: 0.9882 - 1s/epoch - 4ms/step\n",
            "Epoch 8/10\n",
            "270/270 - 1s - loss: 0.0123 - accuracy: 0.9961 - val_loss: 0.0291 - val_accuracy: 0.9927 - 1s/epoch - 4ms/step\n",
            "Epoch 9/10\n",
            "270/270 - 1s - loss: 0.0108 - accuracy: 0.9961 - val_loss: 0.0313 - val_accuracy: 0.9917 - 1s/epoch - 4ms/step\n",
            "Epoch 10/10\n",
            "270/270 - 1s - loss: 0.0114 - accuracy: 0.9961 - val_loss: 0.0403 - val_accuracy: 0.9903 - 1s/epoch - 5ms/step\n"
          ]
        },
        {
          "output_type": "execute_result",
          "data": {
            "text/plain": [
              "<keras.callbacks.History at 0x7fba5da82df0>"
            ]
          },
          "metadata": {},
          "execution_count": 9
        }
      ]
    },
    {
      "cell_type": "markdown",
      "source": [
        "## Vérification de l'apprentissage\n",
        "\n",
        "On peut évaluer la précision sur le jeu de test."
      ],
      "metadata": {
        "id": "zhipQjYw2eBI"
      }
    },
    {
      "cell_type": "code",
      "source": [
        "scores = model.evaluate(x_test, y_test, verbose=0)\n",
        "\n",
        "print(\"Baseline Accuracy: %.2f%%\" % (scores[1]*100))"
      ],
      "metadata": {
        "colab": {
          "base_uri": "https://localhost:8080/"
        },
        "id": "6eX_oHXM2hqm",
        "outputId": "0c255331-c5d2-49f9-bc8e-f8307a63456f"
      },
      "execution_count": 10,
      "outputs": [
        {
          "output_type": "stream",
          "name": "stdout",
          "text": [
            "Baseline Accuracy: 99.14%\n"
          ]
        }
      ]
    },
    {
      "cell_type": "markdown",
      "source": [
        "## Test sur nos données\n",
        "\n",
        "On va évaluer nos images avec le réseau entrainé"
      ],
      "metadata": {
        "id": "v3JdGSKr2oEW"
      }
    },
    {
      "cell_type": "code",
      "source": [
        "import keras.utils as image\n",
        "import glob\n",
        "import numpy as np\n",
        "#load the images\n",
        "images = sorted(glob.glob('/content/*.jpg'))\n",
        "for filename in images:\n",
        "    img = image.load_img(filename, target_size=(28, 28))\n",
        "    img = img.convert('L')\n",
        "    x = image.img_to_array(img)\n",
        "    x = 255 - x\n",
        "    x = (x - x.min()) / (x.max() - x.min())\n",
        "    x = np.expand_dims(x, axis=0)\n",
        "    npimg = np.vstack([x])\n",
        "    classes = classes_x=np.argmax(model.predict(npimg),axis=1) \n",
        "    probas = model.predict(npimg)\n",
        "    print(\"Fichier %s est un %d (%.2f %%)\" % (filename, classes[0], 100*probas[0]\n",
        "    [classes[0]]))"
      ],
      "metadata": {
        "colab": {
          "base_uri": "https://localhost:8080/"
        },
        "id": "hJG39ftU2lSy",
        "outputId": "d2a29e16-63dc-49cd-9a14-0be2a52a74c2"
      },
      "execution_count": 12,
      "outputs": [
        {
          "output_type": "stream",
          "name": "stdout",
          "text": [
            "1/1 [==============================] - 0s 137ms/step\n",
            "1/1 [==============================] - 0s 23ms/step\n",
            "Fichier /content/0.jpg est un 0 (100.00 %)\n",
            "1/1 [==============================] - 0s 19ms/step\n",
            "1/1 [==============================] - 0s 22ms/step\n",
            "Fichier /content/1.jpg est un 1 (100.00 %)\n",
            "1/1 [==============================] - 0s 20ms/step\n",
            "1/1 [==============================] - 0s 19ms/step\n",
            "Fichier /content/2.jpg est un 2 (100.00 %)\n",
            "1/1 [==============================] - 0s 21ms/step\n",
            "1/1 [==============================] - 0s 18ms/step\n",
            "Fichier /content/7.jpg est un 7 (100.00 %)\n",
            "1/1 [==============================] - 0s 21ms/step\n",
            "1/1 [==============================] - 0s 18ms/step\n",
            "Fichier /content/9.jpg est un 9 (87.31 %)\n"
          ]
        }
      ]
    },
    {
      "cell_type": "markdown",
      "source": [
        "On affiche les images testées"
      ],
      "metadata": {
        "id": "3BitOQK62wqb"
      }
    },
    {
      "cell_type": "code",
      "source": [
        "# on utilise matplotlib pour afficher les données\n",
        "%matplotlib inline\n",
        "\n",
        "# on importe les fonctions\n",
        "import matplotlib.pyplot as plt\n",
        "\n",
        "# on va créer le graphique (4 graphes)\n",
        "# on va simplement afficher 4 images utilisées pour l'entrainement\n",
        "plt.subplot(221)\n",
        "plt.imshow(image.load_img('/content/0.jpg',  target_size=(28, 28)), cmap=plt.get_cmap('gray'))\n",
        "plt.subplot(222)\n",
        "plt.imshow(image.load_img('/content/1.jpg',  target_size=(28, 28)), cmap=plt.get_cmap('gray'))\n",
        "plt.subplot(223)\n",
        "plt.imshow(image.load_img('/content/2.jpg',  target_size=(28, 28)), cmap=plt.get_cmap('gray'))\n",
        "plt.subplot(224)\n",
        "plt.imshow(image.load_img('/content/7.jpg',  target_size=(28, 28)), cmap=plt.get_cmap('gray'))\n",
        "# show the plot\n",
        "plt.show()"
      ],
      "metadata": {
        "colab": {
          "base_uri": "https://localhost:8080/",
          "height": 268
        },
        "id": "hmB6_EUe201n",
        "outputId": "bd5b1fa8-8a14-4a96-8812-5617ced499ec"
      },
      "execution_count": 13,
      "outputs": [
        {
          "output_type": "display_data",
          "data": {
            "text/plain": [
              "<Figure size 432x288 with 4 Axes>"
            ],
            "image/png": "[encoded data removed]"
          },
          "metadata": {
            "needs_background": "light"
          }
        }
      ]
    }
  ]
}