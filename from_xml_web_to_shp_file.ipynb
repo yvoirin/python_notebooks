{
  "nbformat": 4,
  "nbformat_minor": 0,
  "metadata": {
    "colab": {
      "provenance": [],
      "mount_file_id": "1Js6ShaD77ykbr8Eoa0Jjv2Q_yxVKptlt",
      "authorship_tag": "ABX9TyMl2T42vDIcp7dyUvEyBEHj",
      "include_colab_link": true
    },
    "kernelspec": {
      "name": "python3",
      "display_name": "Python 3"
    },
    "language_info": {
      "name": "python"
    }
  },
  "cells": [
    {
      "cell_type": "markdown",
      "metadata": {
        "id": "view-in-github",
        "colab_type": "text"
      },
      "source": [
        "<a href=\"https://colab.research.google.com/github/yvoirin/python_notebooks/blob/main/from_xml_web_to_shp_file.ipynb\" target=\"_parent\"><img src=\"https://colab.research.google.com/assets/colab-badge.svg\" alt=\"Open In Colab\"/></a>"
      ]
    },
    {
      "cell_type": "markdown",
      "source": [
        "# Si des libs manquent on doit les installer"
      ],
      "metadata": {
        "id": "HS6HlHutC2VE"
      }
    },
    {
      "cell_type": "code",
      "source": [
        "!pip install fiona"
      ],
      "metadata": {
        "colab": {
          "base_uri": "https://localhost:8080/"
        },
        "id": "ueVxOi1fC7M-",
        "outputId": "3f38b9f8-53d4-4379-ef7b-9305bdd09731"
      },
      "execution_count": 2,
      "outputs": [
        {
          "output_type": "stream",
          "name": "stdout",
          "text": [
            "Looking in indexes: https://pypi.org/simple, https://us-python.pkg.dev/colab-wheels/public/simple/\n",
            "Collecting fiona\n",
            "  Downloading Fiona-1.9.1-cp38-cp38-manylinux_2_17_x86_64.manylinux2014_x86_64.whl (16.0 MB)\n",
            "\u001b[2K     \u001b[90m━━━━━━━━━━━━━━━━━━━━━━━━━━━━━━━━━━━━━━━━\u001b[0m \u001b[32m16.0/16.0 MB\u001b[0m \u001b[31m68.8 MB/s\u001b[0m eta \u001b[36m0:00:00\u001b[0m\n",
            "\u001b[?25hRequirement already satisfied: attrs>=19.2.0 in /usr/local/lib/python3.8/dist-packages (from fiona) (22.2.0)\n",
            "Collecting cligj>=0.5\n",
            "  Downloading cligj-0.7.2-py3-none-any.whl (7.1 kB)\n",
            "Requirement already satisfied: setuptools in /usr/local/lib/python3.8/dist-packages (from fiona) (57.4.0)\n",
            "Requirement already satisfied: certifi in /usr/local/lib/python3.8/dist-packages (from fiona) (2022.12.7)\n",
            "Collecting click-plugins>=1.0\n",
            "  Downloading click_plugins-1.1.1-py2.py3-none-any.whl (7.5 kB)\n",
            "Collecting click~=8.0\n",
            "  Downloading click-8.1.3-py3-none-any.whl (96 kB)\n",
            "\u001b[2K     \u001b[90m━━━━━━━━━━━━━━━━━━━━━━━━━━━━━━━━━━━━━━━━\u001b[0m \u001b[32m96.6/96.6 KB\u001b[0m \u001b[31m12.5 MB/s\u001b[0m eta \u001b[36m0:00:00\u001b[0m\n",
            "\u001b[?25hCollecting munch>=2.3.2\n",
            "  Downloading munch-2.5.0-py2.py3-none-any.whl (10 kB)\n",
            "Requirement already satisfied: six in /usr/local/lib/python3.8/dist-packages (from munch>=2.3.2->fiona) (1.15.0)\n",
            "Installing collected packages: munch, click, cligj, click-plugins, fiona\n",
            "  Attempting uninstall: click\n",
            "    Found existing installation: click 7.1.2\n",
            "    Uninstalling click-7.1.2:\n",
            "      Successfully uninstalled click-7.1.2\n",
            "\u001b[31mERROR: pip's dependency resolver does not currently take into account all the packages that are installed. This behaviour is the source of the following dependency conflicts.\n",
            "flask 1.1.4 requires click<8.0,>=5.1, but you have click 8.1.3 which is incompatible.\u001b[0m\u001b[31m\n",
            "\u001b[0mSuccessfully installed click-8.1.3 click-plugins-1.1.1 cligj-0.7.2 fiona-1.9.1 munch-2.5.0\n"
          ]
        }
      ]
    },
    {
      "cell_type": "markdown",
      "source": [
        "# On importe les libs"
      ],
      "metadata": {
        "id": "nzyHJt7nCPNu"
      }
    },
    {
      "cell_type": "code",
      "execution_count": 3,
      "metadata": {
        "id": "PrsEPOj3B2eY"
      },
      "outputs": [],
      "source": [
        "# on importe les libs\n",
        "import requests\n",
        "from bs4 import BeautifulSoup\n",
        "from datetime import datetime\n",
        "import shapely.wkt\n",
        "from shapely.geometry import mapping\n",
        "import fiona"
      ]
    },
    {
      "cell_type": "markdown",
      "source": [
        "# On va faire une requête vers le site web\n",
        "\n",
        "On souhaite obtenir la liste des stations"
      ],
      "metadata": {
        "id": "UMHmy96NCSWg"
      }
    },
    {
      "cell_type": "code",
      "source": [
        "# on définit la province d'intérêt\n",
        "filter = \"QC\"\n",
        "# la liste des stations\n",
        "url = \"https://dd.meteo.gc.ca/citypage_weather/xml/siteList.xml\"\n",
        "# on fait la requête\n",
        "response = requests.get(url = url)\n",
        "# on analyse la réponse\n",
        "doc = BeautifulSoup( response.text, 'xml')\n",
        "# extraction de tous les sites\n",
        "allsites = doc.findAll('site')\n",
        "# une liste qui contiendra les valeurs\n",
        "data = []"
      ],
      "metadata": {
        "id": "3kJMiu7MB5ag"
      },
      "execution_count": 4,
      "outputs": []
    },
    {
      "cell_type": "markdown",
      "source": [
        "# On va chercher les infos de chaque station\n",
        "Pour cela on doit faire une nouvelle requête vers le fichier xml de chaque station"
      ],
      "metadata": {
        "id": "Jqb3uqqjCbZC"
      }
    },
    {
      "cell_type": "code",
      "source": [
        "# on parcourt les sites XML\n",
        "for node in allsites:\n",
        "    # on récupère la province\n",
        "    codeProvince = node.find('provinceCode').text\n",
        "    # si c'est la province recherchée\n",
        "    if codeProvince == filter:\n",
        "        # on récupère le nom du lieu\n",
        "        name = node.find('nameFr').text\n",
        "        # on récupère le code de la station\n",
        "        code = node['code']\n",
        "        # on va faire une requête sur le fichier de la station\n",
        "        dataurl = f'https://dd.meteo.gc.ca/citypage_weather/xml/{filter}/{code}_f.xml'\n",
        "        \n",
        "        response = requests.get(url = dataurl)\n",
        "        # on analyse\n",
        "        datadoc = BeautifulSoup( response.content, 'xml', from_encoding=\"latin-1\")\n",
        "        # on s'intéresse aux conditions actuelles\n",
        "        currentConditions = datadoc.find('currentConditions')\n",
        "        # on peut récupérer la date\n",
        "        xmldateTime = currentConditions.find('dateTime', {'zone':'UTC'})\n",
        "        # si jamais il n'y a pas d'observation, on ne fait rien\n",
        "        if xmldateTime:\n",
        "            # on va récupérer la date de l'observation\n",
        "            timestamp = xmldateTime.find('timeStamp').text\n",
        "            # on forme une date\n",
        "            obsdate = f'{timestamp[:4]}/{timestamp[4:6]}/{timestamp[6:8]} {timestamp[8:10]}:{timestamp[12:]}'\n",
        "            # on récupère les infos de la station\n",
        "            station = currentConditions.find('station')\n",
        "            # le nom\n",
        "            name = station.text\n",
        "            # la position\n",
        "            lat = station['lat']\n",
        "            lon = station['lon']\n",
        "            # on convertit en float\n",
        "            if 'O' in lon:\n",
        "                lon = float(lon.replace('O','')) * -1.0\n",
        "            elif 'E' in lon:\n",
        "                lon = float(lon.replace('E',''))\n",
        "            if 'N' in lat:\n",
        "                lat = float(lat.replace('N',''))\n",
        "            elif 'S' in lat:\n",
        "                lat = float(lat.replace('S','')) * -1.0\n",
        "            # on fait un point\n",
        "            point = shapely.wkt.loads(f'POINT({lon} {lat})')\n",
        "            #on va récupérer toutes les infos\n",
        "            temperature = dewpoint = windChill = pressure = relativeHumidity = None\n",
        "            # on vérifie si la balise existe et contient des infos\n",
        "            if currentConditions.find('temperature') and currentConditions.find('temperature').text != '':\n",
        "                temperature = float(currentConditions.find('temperature').text)\n",
        "            if currentConditions.find('dewpoint') and currentConditions.find('dewpoint').text != '':\n",
        "                dewpoint = float(currentConditions.find('dewpoint').text)\n",
        "            if currentConditions.find('windChill') and currentConditions.find('windChill').text != '':\n",
        "                windChill = float(currentConditions.find('windChill').text)\n",
        "            if currentConditions.find('pressure') and currentConditions.find('pressure').text != '':\n",
        "                pressure = float(currentConditions.find('pressure').text)\n",
        "            if currentConditions.find('relativeHumidity') and currentConditions.find('relativeHumidity').text != '':              \n",
        "                relativeHumidity = float(currentConditions.find('relativeHumidity').text)\n",
        "            # on alimente notre liste\n",
        "            data.append(\n",
        "                {'geom': point, 'properties': {'code': code,'date': obsdate, 'name': name, 'lon': lon,\n",
        "                'lat': lat, 'temp': temperature, 'dew': dewpoint, 'wind': windChill, 'pressure': pressure, 'humidity': relativeHumidity}}\n",
        "            )"
      ],
      "metadata": {
        "id": "pp7k0jpBB9Hs"
      },
      "execution_count": 5,
      "outputs": []
    },
    {
      "cell_type": "markdown",
      "source": [
        "# On va conserver les résultats dans un fichier shp\n",
        "On souhaite faire un fichier de point avec fiona"
      ],
      "metadata": {
        "id": "s9OrMYNyCova"
      }
    },
    {
      "cell_type": "code",
      "source": [
        "# on va créer le fichier SHP\n",
        "# voici le schéma\n",
        "schema = {\n",
        "    'geometry': 'Point',\n",
        "    'properties': {\n",
        "        'code':'str','date': 'str', 'name': 'str', \n",
        "        'lon': 'float', 'lat': 'float', 'temp': 'float', \n",
        "        'dew': 'float', 'wind': 'float', \n",
        "        'pressure': 'float', 'humidity': 'float'\n",
        "        }\n",
        "}\n",
        "# on forme le fichier SHP\n",
        "with fiona.open('/content/drive/MyDrive/geodata/observations.shp', 'w', crs='EPSG:4326', driver=\"ESRI Shapefile\", schema=schema) as src:\n",
        "    for d in data:\n",
        "        src.write(\n",
        "            {'geometry': mapping(d['geom']), 'properties': d['properties']}\n",
        "        )"
      ],
      "metadata": {
        "id": "PdZmKwovCDhK"
      },
      "execution_count": 10,
      "outputs": []
    }
  ]
}