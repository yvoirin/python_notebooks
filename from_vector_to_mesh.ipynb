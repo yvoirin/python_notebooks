{
  "nbformat": 4,
  "nbformat_minor": 0,
  "metadata": {
    "colab": {
      "provenance": [],
      "toc_visible": true,
      "mount_file_id": "1V0muLnMqpiwQT5w3nFp9yTi9-7F0on9p",
      "authorship_tag": "ABX9TyPbixW04paSI9/xSAGU3hdv",
      "include_colab_link": true
    },
    "kernelspec": {
      "name": "python3",
      "display_name": "Python 3"
    },
    "language_info": {
      "name": "python"
    }
  },
  "cells": [
    {
      "cell_type": "markdown",
      "metadata": {
        "id": "view-in-github",
        "colab_type": "text"
      },
      "source": [
        "<a href=\"https://colab.research.google.com/github/yvoirin/python_notebooks/blob/main/from_vector_to_mesh.ipynb\" target=\"_parent\"><img src=\"https://colab.research.google.com/assets/colab-badge.svg\" alt=\"Open In Colab\"/></a>"
      ]
    },
    {
      "cell_type": "markdown",
      "source": [
        "# Importation des libs"
      ],
      "metadata": {
        "id": "9aRFmVaBAnqJ"
      }
    },
    {
      "cell_type": "code",
      "source": [
        "!pip install fiona"
      ],
      "metadata": {
        "colab": {
          "base_uri": "https://localhost:8080/"
        },
        "id": "1ZFmAi0wA3Bx",
        "outputId": "aa0dbb8e-5998-49a1-f079-5a8acbb23ad9"
      },
      "execution_count": 4,
      "outputs": [
        {
          "output_type": "stream",
          "name": "stdout",
          "text": [
            "Looking in indexes: https://pypi.org/simple, https://us-python.pkg.dev/colab-wheels/public/simple/\n",
            "Collecting fiona\n",
            "  Downloading Fiona-1.9.1-cp38-cp38-manylinux_2_17_x86_64.manylinux2014_x86_64.whl (16.0 MB)\n",
            "\u001b[2K     \u001b[90m━━━━━━━━━━━━━━━━━━━━━━━━━━━━━━━━━━━━━━━━\u001b[0m \u001b[32m16.0/16.0 MB\u001b[0m \u001b[31m78.0 MB/s\u001b[0m eta \u001b[36m0:00:00\u001b[0m\n",
            "\u001b[?25hCollecting munch>=2.3.2\n",
            "  Downloading munch-2.5.0-py2.py3-none-any.whl (10 kB)\n",
            "Requirement already satisfied: setuptools in /usr/local/lib/python3.8/dist-packages (from fiona) (57.4.0)\n",
            "Collecting cligj>=0.5\n",
            "  Downloading cligj-0.7.2-py3-none-any.whl (7.1 kB)\n",
            "Requirement already satisfied: attrs>=19.2.0 in /usr/local/lib/python3.8/dist-packages (from fiona) (22.2.0)\n",
            "Requirement already satisfied: certifi in /usr/local/lib/python3.8/dist-packages (from fiona) (2022.12.7)\n",
            "Collecting click-plugins>=1.0\n",
            "  Downloading click_plugins-1.1.1-py2.py3-none-any.whl (7.5 kB)\n",
            "Collecting click~=8.0\n",
            "  Downloading click-8.1.3-py3-none-any.whl (96 kB)\n",
            "\u001b[2K     \u001b[90m━━━━━━━━━━━━━━━━━━━━━━━━━━━━━━━━━━━━━━━━\u001b[0m \u001b[32m96.6/96.6 KB\u001b[0m \u001b[31m8.9 MB/s\u001b[0m eta \u001b[36m0:00:00\u001b[0m\n",
            "\u001b[?25hRequirement already satisfied: six in /usr/local/lib/python3.8/dist-packages (from munch>=2.3.2->fiona) (1.15.0)\n",
            "Installing collected packages: munch, click, cligj, click-plugins, fiona\n",
            "  Attempting uninstall: click\n",
            "    Found existing installation: click 7.1.2\n",
            "    Uninstalling click-7.1.2:\n",
            "      Successfully uninstalled click-7.1.2\n",
            "\u001b[31mERROR: pip's dependency resolver does not currently take into account all the packages that are installed. This behaviour is the source of the following dependency conflicts.\n",
            "flask 1.1.4 requires click<8.0,>=5.1, but you have click 8.1.3 which is incompatible.\u001b[0m\u001b[31m\n",
            "\u001b[0mSuccessfully installed click-8.1.3 click-plugins-1.1.1 cligj-0.7.2 fiona-1.9.1 munch-2.5.0\n"
          ]
        }
      ]
    },
    {
      "cell_type": "code",
      "source": [
        "!pip install pyproj"
      ],
      "metadata": {
        "colab": {
          "base_uri": "https://localhost:8080/"
        },
        "id": "kbAAH79eBBFH",
        "outputId": "30539fdc-fb4c-4321-a713-4c0a2c7523da"
      },
      "execution_count": 6,
      "outputs": [
        {
          "output_type": "stream",
          "name": "stdout",
          "text": [
            "Looking in indexes: https://pypi.org/simple, https://us-python.pkg.dev/colab-wheels/public/simple/\n",
            "Collecting pyproj\n",
            "  Downloading pyproj-3.4.1-cp38-cp38-manylinux_2_17_x86_64.manylinux2014_x86_64.whl (7.8 MB)\n",
            "\u001b[2K     \u001b[90m━━━━━━━━━━━━━━━━━━━━━━━━━━━━━━━━━━━━━━━━\u001b[0m \u001b[32m7.8/7.8 MB\u001b[0m \u001b[31m70.8 MB/s\u001b[0m eta \u001b[36m0:00:00\u001b[0m\n",
            "\u001b[?25hRequirement already satisfied: certifi in /usr/local/lib/python3.8/dist-packages (from pyproj) (2022.12.7)\n",
            "Installing collected packages: pyproj\n",
            "Successfully installed pyproj-3.4.1\n"
          ]
        }
      ]
    },
    {
      "cell_type": "code",
      "source": [
        "!pip install rasterio"
      ],
      "metadata": {
        "colab": {
          "base_uri": "https://localhost:8080/"
        },
        "id": "AOrMfYs3BKWj",
        "outputId": "72edffb0-31d0-4333-ae31-04477f84ae92"
      },
      "execution_count": 8,
      "outputs": [
        {
          "output_type": "stream",
          "name": "stdout",
          "text": [
            "Looking in indexes: https://pypi.org/simple, https://us-python.pkg.dev/colab-wheels/public/simple/\n",
            "Collecting rasterio\n",
            "  Downloading rasterio-1.3.6-cp38-cp38-manylinux_2_17_x86_64.manylinux2014_x86_64.whl (20.1 MB)\n",
            "\u001b[2K     \u001b[90m━━━━━━━━━━━━━━━━━━━━━━━━━━━━━━━━━━━━━━━━\u001b[0m \u001b[32m20.1/20.1 MB\u001b[0m \u001b[31m72.9 MB/s\u001b[0m eta \u001b[36m0:00:00\u001b[0m\n",
            "\u001b[?25hRequirement already satisfied: setuptools in /usr/local/lib/python3.8/dist-packages (from rasterio) (57.4.0)\n",
            "Requirement already satisfied: cligj>=0.5 in /usr/local/lib/python3.8/dist-packages (from rasterio) (0.7.2)\n",
            "Requirement already satisfied: numpy>=1.18 in /usr/local/lib/python3.8/dist-packages (from rasterio) (1.21.6)\n",
            "Requirement already satisfied: click-plugins in /usr/local/lib/python3.8/dist-packages (from rasterio) (1.1.1)\n",
            "Collecting snuggs>=1.4.1\n",
            "  Downloading snuggs-1.4.7-py3-none-any.whl (5.4 kB)\n",
            "Requirement already satisfied: click>=4.0 in /usr/local/lib/python3.8/dist-packages (from rasterio) (8.1.3)\n",
            "Requirement already satisfied: attrs in /usr/local/lib/python3.8/dist-packages (from rasterio) (22.2.0)\n",
            "Collecting affine\n",
            "  Downloading affine-2.4.0-py3-none-any.whl (15 kB)\n",
            "Requirement already satisfied: certifi in /usr/local/lib/python3.8/dist-packages (from rasterio) (2022.12.7)\n",
            "Requirement already satisfied: pyparsing>=2.1.6 in /usr/local/lib/python3.8/dist-packages (from snuggs>=1.4.1->rasterio) (3.0.9)\n",
            "Installing collected packages: snuggs, affine, rasterio\n",
            "Successfully installed affine-2.4.0 rasterio-1.3.6 snuggs-1.4.7\n"
          ]
        }
      ]
    },
    {
      "cell_type": "code",
      "source": [
        "# on importe les libs\n",
        "import fiona\n",
        "import shapely.geometry\n",
        "import shapely.ops\n",
        "import pyproj\n",
        "import numpy as np\n",
        "from scipy.interpolate import griddata\n",
        "import rasterio\n",
        "from rasterio.transform import Affine"
      ],
      "metadata": {
        "id": "elAvS4q3AubO"
      },
      "execution_count": 9,
      "outputs": []
    },
    {
      "cell_type": "code",
      "execution_count": 12,
      "metadata": {
        "id": "M7hF3gnP_bTX"
      },
      "outputs": [],
      "source": [
        "\n",
        "\n",
        "# on définit une reprojection\n",
        "crs1 = pyproj.CRS('EPSG:4326')\n",
        "crs2 = pyproj.CRS('EPSG:32198')\n",
        "\n",
        "project = pyproj.Transformer.from_crs(crs1, crs2, always_xy=True).transform\n",
        "\n",
        "# on va conserver les points et les valeurs des observations\n",
        "allpoints = []\n",
        "values = []\n",
        "# nos données sont dans un shapefile\n",
        "with fiona.open('/content/drive/MyDrive/geodata/observations.shp') as src:\n",
        "    # on récupère les points et les valeurs de chaque entité\n",
        "    for feature in src:\n",
        "        # on va définir une géométrie et la reprojeter\n",
        "        shape = shapely.geometry.shape(feature['geometry'])\n",
        "        newshape = shapely.ops.transform(project, shape)\n",
        "        # on ajoute les points et les valeurs\n",
        "        allpoints.append((newshape.x, newshape.y))\n",
        "        values.append(feature['properties']['temp'])\n",
        "\n",
        "    # on va définir une grille (meshgrid)\n",
        "    # on a besoin de trouver les x et y (surtout les extrêmes)\n",
        "    all_x = [x[0] for x in allpoints]\n",
        "    all_y = [x[1] for x in allpoints]\n",
        "    # on définit notre résolution (taille de la cellule)\n",
        "    res = 10000 # 10 km\n",
        "    # voici les x et les y\n",
        "    x = np.arange(min(all_x), max(all_x), res)\n",
        "    y = np.arange(min(all_y), max(all_y), res)\n",
        "    # voici notre grille\n",
        "    xx, yy = np.meshgrid(x, y)\n",
        "    # pour interpoler, on utilise griddata\n",
        "    resuinter = griddata(allpoints, values, (xx, yy), method='linear')\n",
        "\n",
        "    # on va pouvoir conserver le résultat dans une image\n",
        "    # on définit la géoréférence\n",
        "    transform = Affine.translation(xx[0][0] - res/2, yy[0][0]-res/2)*Affine.scale(res, res)\n",
        "    # voici l'image de sortie\n",
        "    interp = rasterio.open('temperature.tif', 'w', driver='GTiff', height=resuinter.shape[0],\n",
        "    width=resuinter.shape[1], count=1, dtype=resuinter.dtype, crs=crs2, transform=transform)\n",
        "    # on écrit les données\n",
        "    interp.write(resuinter, 1)\n",
        "    interp.close()"
      ]
    },
    {
      "cell_type": "markdown",
      "source": [
        "# On peut aussi afficher le résultat dans le notebook"
      ],
      "metadata": {
        "id": "1uOdxa86Ea1w"
      }
    },
    {
      "cell_type": "code",
      "source": [
        "import matplotlib.pyplot as plt\n",
        "\n",
        "plt.imshow(resuinter)\n",
        "plt.show()"
      ],
      "metadata": {
        "colab": {
          "base_uri": "https://localhost:8080/",
          "height": 269
        },
        "id": "MhrwA6rMEM2_",
        "outputId": "ab6438c5-9001-48a3-ccb8-a1ad9f0f8902"
      },
      "execution_count": 13,
      "outputs": [
        {
          "output_type": "display_data",
          "data": {
            "text/plain": [
              "<Figure size 432x288 with 1 Axes>"
            ],
            "image/png": "[encoded data removed]"
          },
          "metadata": {
            "needs_background": "light"
          }
        }
      ]
    }
  ]
}